{
 "cells": [
  {
   "cell_type": "code",
   "execution_count": 19,
   "metadata": {},
   "outputs": [],
   "source": [
    "# Import dependencies\n",
    "import pandas as pd\n",
    "from citipy import citipy\n",
    "import matplotlib.pyplot as plt\n",
    "from config import api_key\n",
    "import openweathermapy as owm\n",
    "import random\n",
    "import urllib\n",
    "import csv"
   ]
  },
  {
   "cell_type": "code",
   "execution_count": 20,
   "metadata": {},
   "outputs": [],
   "source": [
    "# Set base url and units for temperature\n",
    "url = \"http://api.openweathermap.org/data/2.5/weather?\"\n",
    "settings = {\"units\": \"imperial\", \"appid\": api_key}"
   ]
  },
  {
   "cell_type": "code",
   "execution_count": 21,
   "metadata": {},
   "outputs": [],
   "source": [
    "### DEFINE A FUNCTION THAT TAKES A POSITIVE INTEGER AS INPUT AND OUTPUTS THAT MANY RANDOM LOCATIONS ###\n",
    "\n",
    "    # Step A: Use random functionality to get a list of randomly chosen coordinates\n",
    "    # Step B: Use CITIPY functionality to get a list of corresponding nearest locations\n",
    "    # Step C: Perform check that the list of locations is unique. If not, repeat steps A and B.\n",
    "\n",
    "def list_of_locations(num):\n",
    "    \n",
    "    coordinates = []\n",
    "    locations = []\n",
    "        \n",
    "    # Populate list of coordinates by generating 'num' random coordinate pairs,\n",
    "    # each up to 3 decimal places\n",
    "    for i in range(num):\n",
    "        lat = round(random.uniform(-90,90), 3) # latitude values\n",
    "        lon = round(random.uniform(-180,180), 3) # longitude values\n",
    "        coordinates.append((lat, lon)) \n",
    "    \n",
    "    # Populate lists of locations denoted by cities and corresponding country codes\n",
    "    # which are nearest to the randomly chosen coordinates found above\n",
    "    for coordinate_pair in coordinates:\n",
    "        (lat, lon) = coordinate_pair\n",
    "        city = citipy.nearest_city(lat, lon)\n",
    "        locations.append(city.city_name + \",\" + city.country_code)\n",
    "    \n",
    "    # Remove any duplicates from the list.\n",
    "    unique_locations = []\n",
    "    \n",
    "    for x in locations: \n",
    "        if x not in unique_locations: \n",
    "            unique_locations.append(x)\n",
    "        locations = unique_locations\n",
    "        \n",
    "    return locations"
   ]
  },
  {
   "cell_type": "code",
   "execution_count": 22,
   "metadata": {},
   "outputs": [],
   "source": [
    "### SET VARIABLE VALUE FOR NUMBER OF LOCATIONS AND STORE JSON RESPONSES FROM API ###\n",
    "\n",
    "# Set the variable for number of locations\n",
    "num_locations = 100\n",
    "\n",
    "# Define list to store JSON responses from API calls based on locations (i.e., city and country code names)\n",
    "responses = []\n",
    "\n",
    "# Run the function to populate the locations\n",
    "locations = list_of_locations(num_locations)"
   ]
  },
  {
   "cell_type": "code",
   "execution_count": 23,
   "metadata": {},
   "outputs": [],
   "source": [
    "# Take lists of locations and ping API with them. Store JSON in a new list called responses.\n",
    "for location in locations:\n",
    "    try:\n",
    "        response = owm.get_current(location, **settings)\n",
    "        responses.append(response)\n",
    "        city_name = response.get('name')\n",
    "        city_number = response.get('cod')\n",
    "        print(f\"The city of {city_name} has the city number of {city_number}.\")\n",
    "    except urllib.error.HTTPError as error: \n",
    "        pass\n",
    "\n",
    "###########################################################################\n",
    "###########################################################################\n",
    "###########################################################################\n",
    "\n",
    "######### TO DO:\n",
    "\n",
    "######### 1. FIGURE OUT HOW TO PRINT A LOG FOR EACH CITY IN RESPONSES LIST AS IT'S BEING PROCESSED VIA API CALL\n",
    "#########    WITH CITY NAME AND CITY NUMBER. \n",
    "\n",
    "###########################################################################\n",
    "###########################################################################\n",
    "###########################################################################"
   ]
  },
  {
   "cell_type": "raw",
   "metadata": {},
   "source": [
    "responses[0]"
   ]
  },
  {
   "cell_type": "code",
   "execution_count": 37,
   "metadata": {},
   "outputs": [],
   "source": [
    "### WRITE CSV BASED ON RESPONSES LIST OF NESTED DICTIONARIES ###\n",
    "\n",
    "with open('reponses.csv', 'w', newline='') as csv_file:\n",
    "    csvwriter = csv.writer(csv_file, delimiter=',')\n",
    "    csvwriter.writerow(['coord_lat', 'coord_lon', 'weather_id', 'weather_main', 'weather_description', 'weather_icon', 'base', 'main_temp', 'main_pressure', 'main_humidity', 'main_temp_min', 'main_temp_max', 'visibility', 'wind_speed', 'wind_deg', 'clouds_all', 'dt', 'sys_type', 'sys_id', 'sys_message', 'sys_country', 'sys_sunrise', 'sys_sunset', 'timezone', 'id', 'name', 'cod'])\n",
    "    \n",
    "    for response in responses:\n",
    "        coord_lat = response['coord'].get('lat')\n",
    "        coord_lon = response['coord'].get('lon')\n",
    "       \n",
    "        weather_id = response['weather'][0].get('id')\n",
    "        weather_main = response['weather'][0].get('main')\n",
    "        weather_description = response['weather'][0].get('description')\n",
    "        weather_icon = response['weather'][0].get('icon')\n",
    "        \n",
    "        base = response.get('base')\n",
    "        \n",
    "        main_temp = response['main'].get('temp')\n",
    "        main_pressure = response['main'].get('pressure')\n",
    "        main_humidity = response['main'].get('humidity')\n",
    "        main_temp_min = response['main'].get('temp_min')\n",
    "        main_temp_max = response['main'].get('temp_max')\n",
    "        \n",
    "        visibility = response.get('visibility')\n",
    "        \n",
    "        wind_speed = response['wind'].get('speed')\n",
    "        wind_deg = response['wind'].get('deg')\n",
    "        \n",
    "        clouds_all = response['clouds'].get('all')\n",
    "        dt = response.get('dt')\n",
    "        \n",
    "        sys_type = response['sys'].get('type')\n",
    "        sys_id = response['sys'].get('id')\n",
    "        sys_message = response['sys'].get('message')\n",
    "        sys_country = response['sys'].get('country')\n",
    "        sys_sunrise = response['sys'].get('sunrise')\n",
    "        sys_sunset = response['sys'].get('sunset')\n",
    "        \n",
    "        timezone = response.get('timezone')\n",
    "        __id__ = response.get('id')\n",
    "        name = response.get('name')\n",
    "        cod = response.get('cod')\n",
    "        csvwriter.writerow([coord_lat, coord_lon, weather_id, weather_main, weather_description, weather_icon, base, main_temp, main_pressure, main_humidity, main_temp_min, main_temp_max, visibility, wind_speed, wind_deg, clouds_all, dt, sys_type, sys_id, sys_message, sys_country, sys_sunrise, sys_sunset, timezone, __id__, name, cod])"
   ]
  },
  {
   "cell_type": "code",
   "execution_count": 38,
   "metadata": {},
   "outputs": [
    {
     "data": {
      "text/html": [
       "<div>\n",
       "<style scoped>\n",
       "    .dataframe tbody tr th:only-of-type {\n",
       "        vertical-align: middle;\n",
       "    }\n",
       "\n",
       "    .dataframe tbody tr th {\n",
       "        vertical-align: top;\n",
       "    }\n",
       "\n",
       "    .dataframe thead th {\n",
       "        text-align: right;\n",
       "    }\n",
       "</style>\n",
       "<table border=\"1\" class=\"dataframe\">\n",
       "  <thead>\n",
       "    <tr style=\"text-align: right;\">\n",
       "      <th></th>\n",
       "      <th>latitude</th>\n",
       "      <th>temperature</th>\n",
       "      <th>humidity_percentage</th>\n",
       "      <th>wind_speed_mph</th>\n",
       "      <th>cloudiness_percentage</th>\n",
       "    </tr>\n",
       "    <tr>\n",
       "      <th>city_name</th>\n",
       "      <th></th>\n",
       "      <th></th>\n",
       "      <th></th>\n",
       "      <th></th>\n",
       "      <th></th>\n",
       "    </tr>\n",
       "  </thead>\n",
       "  <tbody>\n",
       "    <tr>\n",
       "      <th>Hermanus</th>\n",
       "      <td>-34.42</td>\n",
       "      <td>54.75</td>\n",
       "      <td>75</td>\n",
       "      <td>10.00</td>\n",
       "      <td>74</td>\n",
       "    </tr>\n",
       "    <tr>\n",
       "      <th>Mount Gambier</th>\n",
       "      <td>-37.83</td>\n",
       "      <td>66.20</td>\n",
       "      <td>55</td>\n",
       "      <td>12.75</td>\n",
       "      <td>29</td>\n",
       "    </tr>\n",
       "    <tr>\n",
       "      <th>Ushuaia</th>\n",
       "      <td>-54.81</td>\n",
       "      <td>28.40</td>\n",
       "      <td>92</td>\n",
       "      <td>17.22</td>\n",
       "      <td>40</td>\n",
       "    </tr>\n",
       "    <tr>\n",
       "      <th>Saint-Francois</th>\n",
       "      <td>16.25</td>\n",
       "      <td>78.80</td>\n",
       "      <td>83</td>\n",
       "      <td>8.05</td>\n",
       "      <td>10</td>\n",
       "    </tr>\n",
       "    <tr>\n",
       "      <th>Zambezi</th>\n",
       "      <td>-13.55</td>\n",
       "      <td>54.23</td>\n",
       "      <td>55</td>\n",
       "      <td>8.70</td>\n",
       "      <td>0</td>\n",
       "    </tr>\n",
       "  </tbody>\n",
       "</table>\n",
       "</div>"
      ],
      "text/plain": [
       "                latitude  temperature  humidity_percentage  wind_speed_mph  \\\n",
       "city_name                                                                    \n",
       "Hermanus          -34.42        54.75                   75           10.00   \n",
       "Mount Gambier     -37.83        66.20                   55           12.75   \n",
       "Ushuaia           -54.81        28.40                   92           17.22   \n",
       "Saint-Francois     16.25        78.80                   83            8.05   \n",
       "Zambezi           -13.55        54.23                   55            8.70   \n",
       "\n",
       "                cloudiness_percentage  \n",
       "city_name                              \n",
       "Hermanus                           74  \n",
       "Mount Gambier                      29  \n",
       "Ushuaia                            40  \n",
       "Saint-Francois                     10  \n",
       "Zambezi                             0  "
      ]
     },
     "execution_count": 38,
     "metadata": {},
     "output_type": "execute_result"
    }
   ],
   "source": [
    "### CREATE DATAFRAME WITH RELEVANT DATA FROM JSON RESPONSES ###\n",
    "\n",
    "# Define a summary list of metrics I want to pull from the responses list\n",
    "summary = [\"name\", \"coord.lat\", \"main.temp\", \"main.humidity\", \"wind.speed\", \"clouds.all\"]\n",
    "\n",
    "# Create a Pandas DataFrame with the results, indexed by city name since this data will not be called by scatterplots\n",
    "data_slice = [response(*summary) for response in responses]\n",
    "data_df = pd.DataFrame(data_slice)\n",
    "data_df.columns = ['city_name', 'latitude', 'temperature', 'humidity_percentage', 'wind_speed_mph', 'cloudiness_percentage']\n",
    "data_df = data_df.set_index('city_name')\n",
    "data_df.head()"
   ]
  },
  {
   "cell_type": "code",
   "execution_count": 39,
   "metadata": {},
   "outputs": [],
   "source": [
    "### DEFINE FUNCTION THAT TAKES A COLUMN FROM DATAFRAME AS INPUT AND OUTPUTS A SCATTERPLOT ###\n",
    "\n",
    "def scatter(column, title, y_axis_label, file_name):\n",
    "    plt.scatter(data_df[column], data_df['temperature'], c='b', marker='o')\n",
    "    plt.title(title, size='xx-large', fontweight='bold', pad=20)\n",
    "    plt.xlabel('Latitude Coordinate', size='large', labelpad=10)\n",
    "    plt.ylabel(y_axis_label, size='large', labelpad=10)\n",
    "    plt.savefig(file_name)\n",
    "    plt.show()"
   ]
  },
  {
   "cell_type": "code",
   "execution_count": 40,
   "metadata": {},
   "outputs": [
    {
     "data": {
      "image/png": "[encoded data removed]",
      "text/plain": [
       "<Figure size 432x288 with 1 Axes>"
      ]
     },
     "metadata": {
      "needs_background": "light"
     },
     "output_type": "display_data"
    }
   ],
   "source": [
    "# Build scatterplot that plots temperature (F) vs. latitude\n",
    "scatter('latitude', 'Temperature vs. Latitude', 'Temperature (Fahrenheight)', 'temperature_vs_latitude')"
   ]
  },
  {
   "cell_type": "code",
   "execution_count": 41,
   "metadata": {},
   "outputs": [
    {
     "data": {
      "image/png": "[encoded data removed]",
      "text/plain": [
       "<Figure size 432x288 with 1 Axes>"
      ]
     },
     "metadata": {
      "needs_background": "light"
     },
     "output_type": "display_data"
    }
   ],
   "source": [
    "# Build scatterplot that plots humidity vs. latitude\n",
    "scatter('latitude', 'Humidity vs. Latitude', 'Humidity (%)', 'humidity_vs_latitude')"
   ]
  },
  {
   "cell_type": "code",
   "execution_count": 42,
   "metadata": {},
   "outputs": [
    {
     "data": {
      "image/png": "[encoded data removed]",
      "text/plain": [
       "<Figure size 432x288 with 1 Axes>"
      ]
     },
     "metadata": {
      "needs_background": "light"
     },
     "output_type": "display_data"
    }
   ],
   "source": [
    "# Build scatterplot that plots cloudiness vs. latitude\n",
    "scatter('cloudiness_percentage', 'Cloudiness vs. Latitude', 'Cloudiness (%)', 'cloudiness_vs_latitude')"
   ]
  },
  {
   "cell_type": "code",
   "execution_count": 43,
   "metadata": {},
   "outputs": [
    {
     "data": {
      "image/png": "[encoded data removed]",
      "text/plain": [
       "<Figure size 432x288 with 1 Axes>"
      ]
     },
     "metadata": {
      "needs_background": "light"
     },
     "output_type": "display_data"
    }
   ],
   "source": [
    "# Build scatterplot that plots cloudiness vs. latitude\n",
    "scatter('wind_speed_mph', 'Wind Speed vs. Latitude', 'Wind Speed (mph)', 'windspeed_vs_latitude')"
   ]
  },
  {
   "cell_type": "code",
   "execution_count": null,
   "metadata": {},
   "outputs": [],
   "source": []
  }
 ],
 "metadata": {
  "kernelspec": {
   "display_name": "Python [conda env:PythonData] *",
   "language": "python",
   "name": "conda-env-PythonData-py"
  },
  "language_info": {
   "codemirror_mode": {
    "name": "ipython",
    "version": 3
   },
   "file_extension": ".py",
   "mimetype": "text/x-python",
   "name": "python",
   "nbconvert_exporter": "python",
   "pygments_lexer": "ipython3",
   "version": "3.7.3"
  }
 },
 "nbformat": 4,
 "nbformat_minor": 2
}
