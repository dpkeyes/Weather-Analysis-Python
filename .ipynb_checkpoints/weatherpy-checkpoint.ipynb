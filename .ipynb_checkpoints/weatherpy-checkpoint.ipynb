{
 "cells": [
  {
   "cell_type": "code",
   "execution_count": 149,
   "metadata": {},
   "outputs": [],
   "source": [
    "# Import dependencies\n",
    "import pandas as pd\n",
    "from citipy import citipy\n",
    "import matplotlib.pyplot as plt\n",
    "from config import api_key\n",
    "import openweathermapy as owm\n",
    "import random"
   ]
  },
  {
   "cell_type": "code",
   "execution_count": 150,
   "metadata": {},
   "outputs": [],
   "source": [
    "# Set base url and units for temperature\n",
    "url = \"http://api.openweathermap.org/data/2.5/weather?\"\n",
    "settings = {\"units\": \"imperial\", \"appid\": api_key}"
   ]
  },
  {
   "cell_type": "code",
   "execution_count": 151,
   "metadata": {},
   "outputs": [],
   "source": [
    "### DEFINE A FUNCTION THAT TAKES A POSITIVE INTEGER AS INPUT AND OUTPUTS THAT MANY RANDOM LOCATIONS ###\n",
    "\n",
    "    # Step A: Use random functionality to get a list of randomly chosen coordinates\n",
    "    # Step B: Use CITIPY functionality to get a list of corresponding nearest locations\n",
    "    # Step C: Perform check that the list of locations is unique. If not, repeat steps A and B.\n",
    "\n",
    "def list_of_locations(num):\n",
    "    \n",
    "    coordinates = []\n",
    "    locations = []\n",
    "        \n",
    "    # Populate list of coordinates by generating 'num' random coordinate pairs,\n",
    "    # each up to 3 decimal places\n",
    "    for i in range(num):\n",
    "        lat = round(random.uniform(-90,90), 3) # latitude values\n",
    "        lon = round(random.uniform(-180,180), 3) # longitude values\n",
    "        coordinates.append((lat, lon)) \n",
    "    \n",
    "    # Populate lists of locations denoted by cities and corresponding country codes\n",
    "    # which are nearest to the randomly chosen coordinates found above\n",
    "    for coordinate_pair in coordinates:\n",
    "        (lat, lon) = coordinate_pair\n",
    "        city = citipy.nearest_city(lat, lon)\n",
    "        locations.append(city.city_name + \",\" + city.country_code)\n",
    "    \n",
    "    # Remove any duplicates from the list.\n",
    "    unique_locations = []\n",
    "    \n",
    "    for x in locations: \n",
    "        if x not in unique_locations: \n",
    "            unique_locations.append(x)\n",
    "        locations = unique_locations\n",
    "    \n",
    "    return locations, len(locations)"
   ]
  },
  {
   "cell_type": "code",
   "execution_count": 152,
   "metadata": {},
   "outputs": [
    {
     "data": {
      "text/plain": [
       "(['saint-philippe,re',\n",
       "  'qaanaaq,gl',\n",
       "  'punta arenas,cl',\n",
       "  'hovd,mn',\n",
       "  'vyazemskiy,ru',\n",
       "  'albany,au',\n",
       "  'cape town,za',\n",
       "  'kodiak,us',\n",
       "  'lasem,id',\n",
       "  'fairbanks,us',\n",
       "  'nuuk,gl',\n",
       "  'taolanaro,mg',\n",
       "  'bonavista,ca',\n",
       "  'busselton,au',\n",
       "  'basirhat,in',\n",
       "  'acapulco,mx',\n",
       "  'cidreira,br',\n",
       "  'port alfred,za',\n",
       "  'daru,pg',\n",
       "  'koygorodok,ru',\n",
       "  'bethel,us',\n",
       "  'hermanus,za',\n",
       "  'mar del plata,ar',\n",
       "  'new norfolk,au',\n",
       "  'severnoye,ru',\n",
       "  'pevek,ru',\n",
       "  'duz,tn',\n",
       "  'esso,ru',\n",
       "  'khatanga,ru',\n",
       "  'constitucion,mx',\n",
       "  'itumbiara,br',\n",
       "  'sabha,ly',\n",
       "  'nanakuli,us',\n",
       "  'mataura,pf',\n",
       "  'bluff,nz',\n",
       "  'arraial do cabo,br',\n",
       "  'joshimath,in',\n",
       "  'maltahohe,na',\n",
       "  'sitka,us',\n",
       "  'tuktoyaktuk,ca',\n",
       "  'coahuayana,mx',\n",
       "  'ventspils,lv',\n",
       "  'bathsheba,bb',\n",
       "  'rawson,ar',\n",
       "  'severo-kurilsk,ru',\n",
       "  'krasnoselkup,ru',\n",
       "  'rikitea,pf',\n",
       "  'lata,sb',\n",
       "  'sao jose da coroa grande,br',\n",
       "  'inuvik,ca',\n",
       "  'dikson,ru',\n",
       "  'acarau,br',\n",
       "  'bandarbeyla,so',\n",
       "  'bredasdorp,za',\n",
       "  'olafsvik,is',\n",
       "  'thompson,ca',\n",
       "  'kapaa,us',\n",
       "  'touros,br',\n",
       "  'torbay,ca',\n",
       "  'flinders,au',\n",
       "  'sao filipe,cv',\n",
       "  'yanzhou,cn',\n",
       "  'san pedro,ar',\n",
       "  'belushya guba,ru',\n",
       "  'nizhneyansk,ru',\n",
       "  'emerald,au',\n",
       "  'pendleton,us',\n",
       "  'grand river south east,mu',\n",
       "  'comodoro rivadavia,ar',\n",
       "  'carnarvon,au',\n",
       "  'ketchikan,us',\n",
       "  'shibarghan,af',\n",
       "  'dhidhdhoo,mv',\n",
       "  'tomatlan,mx'],\n",
       " 74)"
      ]
     },
     "execution_count": 152,
     "metadata": {},
     "output_type": "execute_result"
    }
   ],
   "source": [
    "### SET VARIABLE VALUE FOR NUMBER OF LOCATIONS AND STORE JSON RESPONSES FROM API ###\n",
    "\n",
    "# Set the variable for number of locations\n",
    "num_locations = 100\n",
    "\n",
    "# Define list to store JSON responses from API calls based on locations (i.e., city and country code names)\n",
    "responses = []\n",
    "\n",
    "# Run the function to populate the locations\n",
    "list_of_locations(num_locations)"
   ]
  },
  {
   "cell_type": "code",
   "execution_count": 154,
   "metadata": {},
   "outputs": [
    {
     "data": {
      "text/plain": [
       "5"
      ]
     },
     "execution_count": 154,
     "metadata": {},
     "output_type": "execute_result"
    }
   ],
   "source": [
    "# Take lists of locations and ping API with them. Store JSON in a new list called responses.\n",
    "responses = [owm.get_current(location, **settings) for location in locations]\n",
    "\n",
    "###########################################################################\n",
    "###########################################################################\n",
    "###########################################################################\n",
    "\n",
    "######### TO DO:\n",
    "\n",
    "######### 1. FIGURE OUT HOW TO PRINT A LOG FOR EACH CITY IN RESPONSES LIST AS IT'S BEING PROCESSED VIA API\n",
    "#########    WITH CITY NAME AND CITY NUMBER. \n",
    "\n",
    "######### 2. EXPORT A CSV WITH ALL DATA FROM RESPONSES LIST\n",
    "\n",
    "###########################################################################\n",
    "###########################################################################\n",
    "###########################################################################\n",
    "\n",
    "len(responses)"
   ]
  },
  {
   "cell_type": "code",
   "execution_count": 134,
   "metadata": {},
   "outputs": [
    {
     "data": {
      "text/html": [
       "<div>\n",
       "<style scoped>\n",
       "    .dataframe tbody tr th:only-of-type {\n",
       "        vertical-align: middle;\n",
       "    }\n",
       "\n",
       "    .dataframe tbody tr th {\n",
       "        vertical-align: top;\n",
       "    }\n",
       "\n",
       "    .dataframe thead th {\n",
       "        text-align: right;\n",
       "    }\n",
       "</style>\n",
       "<table border=\"1\" class=\"dataframe\">\n",
       "  <thead>\n",
       "    <tr style=\"text-align: right;\">\n",
       "      <th></th>\n",
       "      <th>latitude</th>\n",
       "      <th>temperature</th>\n",
       "      <th>humidity_percentage</th>\n",
       "      <th>wind_speed_mph</th>\n",
       "      <th>cloudiness_percentage</th>\n",
       "    </tr>\n",
       "    <tr>\n",
       "      <th>city_name</th>\n",
       "      <th></th>\n",
       "      <th></th>\n",
       "      <th></th>\n",
       "      <th></th>\n",
       "      <th></th>\n",
       "    </tr>\n",
       "  </thead>\n",
       "  <tbody>\n",
       "    <tr>\n",
       "      <th>Ushuaia</th>\n",
       "      <td>-54.81</td>\n",
       "      <td>32.00</td>\n",
       "      <td>90</td>\n",
       "      <td>12.75</td>\n",
       "      <td>75</td>\n",
       "    </tr>\n",
       "    <tr>\n",
       "      <th>Bredasdorp</th>\n",
       "      <td>-34.53</td>\n",
       "      <td>58.53</td>\n",
       "      <td>82</td>\n",
       "      <td>14.99</td>\n",
       "      <td>97</td>\n",
       "    </tr>\n",
       "    <tr>\n",
       "      <th>Boa Vista</th>\n",
       "      <td>2.82</td>\n",
       "      <td>87.19</td>\n",
       "      <td>60</td>\n",
       "      <td>8.28</td>\n",
       "      <td>62</td>\n",
       "    </tr>\n",
       "    <tr>\n",
       "      <th>Caluquembe</th>\n",
       "      <td>-13.78</td>\n",
       "      <td>60.19</td>\n",
       "      <td>29</td>\n",
       "      <td>5.48</td>\n",
       "      <td>0</td>\n",
       "    </tr>\n",
       "    <tr>\n",
       "      <th>Talnakh</th>\n",
       "      <td>69.49</td>\n",
       "      <td>39.20</td>\n",
       "      <td>86</td>\n",
       "      <td>11.18</td>\n",
       "      <td>75</td>\n",
       "    </tr>\n",
       "  </tbody>\n",
       "</table>\n",
       "</div>"
      ],
      "text/plain": [
       "            latitude  temperature  humidity_percentage  wind_speed_mph  \\\n",
       "city_name                                                                \n",
       "Ushuaia       -54.81        32.00                   90           12.75   \n",
       "Bredasdorp    -34.53        58.53                   82           14.99   \n",
       "Boa Vista       2.82        87.19                   60            8.28   \n",
       "Caluquembe    -13.78        60.19                   29            5.48   \n",
       "Talnakh        69.49        39.20                   86           11.18   \n",
       "\n",
       "            cloudiness_percentage  \n",
       "city_name                          \n",
       "Ushuaia                        75  \n",
       "Bredasdorp                     97  \n",
       "Boa Vista                      62  \n",
       "Caluquembe                      0  \n",
       "Talnakh                        75  "
      ]
     },
     "execution_count": 134,
     "metadata": {},
     "output_type": "execute_result"
    }
   ],
   "source": [
    "### CREATE DATAFRAME WITH RELEVANT DATA FROM JSON RESPONSES ###\n",
    "\n",
    "# Define a summary list of metrics I want to pull from the responses list\n",
    "summary = [\"name\", \"coord.lat\", \"main.temp\", \"main.humidity\", \"wind.speed\", \"clouds.all\"]\n",
    "\n",
    "# Create a Pandas DataFrame with the results, indexed by city name since this data will not be called by scatterplots\n",
    "data_slice = [response(*summary) for response in responses]\n",
    "data_df = pd.DataFrame(data_slice)\n",
    "data_df.columns = ['city_name', 'latitude', 'temperature', 'humidity_percentage', 'wind_speed_mph', 'cloudiness_percentage']\n",
    "data_df = data_df.set_index('city_name')\n",
    "data_df"
   ]
  },
  {
   "cell_type": "code",
   "execution_count": null,
   "metadata": {},
   "outputs": [],
   "source": [
    "### DEFINE FUNCTION THAT TAKES A COLUMN FROM DATAFRAME AS INPUT AND OUTPUTS A SCATTERPLOT ###\n",
    "\n",
    "def scatter(column, title, y_axis_label, file_name):\n",
    "    plt.scatter(data_df[column], data_df['temperature'], c='b', marker='o')\n",
    "    plt.title(title, size='xx-large', fontweight='bold', pad=20)\n",
    "    plt.xlabel('Latitude Coordinate', size='large', labelpad=10)\n",
    "    plt.ylabel(y_axis_label, size='large', labelpad=10)\n",
    "    plt.savefig(file_name)\n",
    "    plt.show()"
   ]
  },
  {
   "cell_type": "code",
   "execution_count": null,
   "metadata": {},
   "outputs": [],
   "source": [
    "# Build scatterplot that plots temperature (F) vs. latitude\n",
    "scatter('latitude', 'Temperature vs. Latitude', 'Temperature (Fahrenheight)', 'temperature_vs_latitude')"
   ]
  },
  {
   "cell_type": "code",
   "execution_count": null,
   "metadata": {},
   "outputs": [],
   "source": [
    "# Build scatterplot that plots humidity vs. latitude\n",
    "scatter('latitude', 'Humidity vs. Latitude', 'Humidity (%)', 'humidity_vs_latitude')"
   ]
  },
  {
   "cell_type": "code",
   "execution_count": null,
   "metadata": {},
   "outputs": [],
   "source": [
    "# Build scatterplot that plots cloudiness vs. latitude\n",
    "scatter('cloudiness_percentage', 'Cloudiness vs. Latitude', 'Cloudiness (%)', 'cloudiness_vs_latitude')"
   ]
  },
  {
   "cell_type": "code",
   "execution_count": null,
   "metadata": {},
   "outputs": [],
   "source": [
    "# Build scatterplot that plots cloudiness vs. latitude\n",
    "scatter('wind_speed_mph', 'Wind Speed vs. Latitude', 'Wind Speed (mph)', 'windspeed_vs_latitude')"
   ]
  },
  {
   "cell_type": "code",
   "execution_count": null,
   "metadata": {},
   "outputs": [],
   "source": []
  }
 ],
 "metadata": {
  "kernelspec": {
   "display_name": "Python [conda env:PythonData] *",
   "language": "python",
   "name": "conda-env-PythonData-py"
  },
  "language_info": {
   "codemirror_mode": {
    "name": "ipython",
    "version": 3
   },
   "file_extension": ".py",
   "mimetype": "text/x-python",
   "name": "python",
   "nbconvert_exporter": "python",
   "pygments_lexer": "ipython3",
   "version": "3.7.3"
  }
 },
 "nbformat": 4,
 "nbformat_minor": 2
}
