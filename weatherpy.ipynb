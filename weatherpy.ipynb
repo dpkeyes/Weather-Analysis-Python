{
 "cells": [
  {
   "cell_type": "code",
   "execution_count": 88,
   "metadata": {},
   "outputs": [],
   "source": [
    "# Import dependencies\n",
    "import pandas as pd\n",
    "from citipy import citipy\n",
    "import matplotlib.pyplot as plt\n",
    "import requests\n",
    "from config import api_key\n",
    "import pprint\n",
    "import csv\n",
    "import openweathermapy as owm"
   ]
  },
  {
   "cell_type": "code",
   "execution_count": 89,
   "metadata": {},
   "outputs": [],
   "source": [
    "# Set base url and units for temperature\n",
    "url = \"http://api.openweathermap.org/data/2.5/weather?\"\n",
    "settings = {\"units\": \"imperial\", \"appid\": api_key}"
   ]
  },
  {
   "cell_type": "code",
   "execution_count": 90,
   "metadata": {},
   "outputs": [],
   "source": [
    "# Define list for housing randomly chosen coordinates\n",
    "# coordinates = []\n",
    "coordinates = [(37.39, -122.08), (37.39, 0), (37.39, 122.08)]\n",
    "\n",
    "######### TO DO:\n",
    "\n",
    "######### 1. FIGURE OUT HOW TO GENERATE RANDOM VALUES WITHIN APPROPRIATE RANGES (-90, 90) FOR LATITUDE and (-180, 180)\n",
    "######### FOR LONGITUDE. THINK ABOUT \"WORLD DISTRIBUTION\" PIECE OF THIS. SHOULD IT BE FULLY RANDOM OR SOME WEIGHTING\n",
    "######### STRUCTURE FOR DIFFERENT REGIONS."
   ]
  },
  {
   "cell_type": "code",
   "execution_count": 91,
   "metadata": {},
   "outputs": [],
   "source": [
    "# Define list of locations given by \"city,countryCode\" based on lat/long coordinate pairs randomly chosen above\n",
    "locations = [] \n",
    "\n",
    "# Define list to store JSON responses from API calls based on locations (i.e., city and country code names)\n",
    "responses = []"
   ]
  },
  {
   "cell_type": "code",
   "execution_count": 92,
   "metadata": {},
   "outputs": [],
   "source": [
    "# Populate lists of locations denoted by cities and corresponding country codes\n",
    "# which are nearest to the randomly chosen coordinates found above\n",
    "\n",
    "for coordinate_pair in coordinates:\n",
    "    (lat, lon) = coordinate_pair\n",
    "    city = citipy.nearest_city(lat, lon)\n",
    "    locations.append(city.city_name + \",\" + city.country_code)"
   ]
  },
  {
   "cell_type": "code",
   "execution_count": 93,
   "metadata": {},
   "outputs": [],
   "source": [
    "# Take lists of locations and ping API with them. Store JSON in a new list called responses.\n",
    "responses = [owm.get_current(location, **settings) for location in locations]\n",
    "\n",
    "######### TO DO:\n",
    "\n",
    "######### 1. FIGURE OUT HOW TO PRINT A LOG FOR EACH CITY IN RESPONSES LIST AS IT'S BEING PROCESSED VIA API\n",
    "#########    WITH CITY NAME AND CITY NUMBER. \n",
    "\n",
    "######### 2. EXPORT A CSV WITH ALL DATA FROM RESPONSES LIST"
   ]
  },
  {
   "cell_type": "code",
   "execution_count": 94,
   "metadata": {},
   "outputs": [
    {
     "data": {
      "text/html": [
       "<div>\n",
       "<style scoped>\n",
       "    .dataframe tbody tr th:only-of-type {\n",
       "        vertical-align: middle;\n",
       "    }\n",
       "\n",
       "    .dataframe tbody tr th {\n",
       "        vertical-align: top;\n",
       "    }\n",
       "\n",
       "    .dataframe thead th {\n",
       "        text-align: right;\n",
       "    }\n",
       "</style>\n",
       "<table border=\"1\" class=\"dataframe\">\n",
       "  <thead>\n",
       "    <tr style=\"text-align: right;\">\n",
       "      <th></th>\n",
       "      <th>latitude</th>\n",
       "      <th>temperature</th>\n",
       "      <th>humidity_percentage</th>\n",
       "      <th>wind_speed_mph</th>\n",
       "      <th>cloudiness_percentage</th>\n",
       "    </tr>\n",
       "  </thead>\n",
       "  <tbody>\n",
       "    <tr>\n",
       "      <th>mountain view,us</th>\n",
       "      <td>37.39</td>\n",
       "      <td>80.40</td>\n",
       "      <td>57</td>\n",
       "      <td>10.29</td>\n",
       "      <td>1</td>\n",
       "    </tr>\n",
       "    <tr>\n",
       "      <th>torrevieja,es</th>\n",
       "      <td>37.98</td>\n",
       "      <td>73.22</td>\n",
       "      <td>88</td>\n",
       "      <td>6.93</td>\n",
       "      <td>20</td>\n",
       "    </tr>\n",
       "    <tr>\n",
       "      <th>weihai,cn</th>\n",
       "      <td>37.50</td>\n",
       "      <td>67.91</td>\n",
       "      <td>87</td>\n",
       "      <td>14.16</td>\n",
       "      <td>0</td>\n",
       "    </tr>\n",
       "  </tbody>\n",
       "</table>\n",
       "</div>"
      ],
      "text/plain": [
       "                  latitude  temperature  humidity_percentage  wind_speed_mph  \\\n",
       "mountain view,us     37.39        80.40                   57           10.29   \n",
       "torrevieja,es        37.98        73.22                   88            6.93   \n",
       "weihai,cn            37.50        67.91                   87           14.16   \n",
       "\n",
       "                  cloudiness_percentage  \n",
       "mountain view,us                      1  \n",
       "torrevieja,es                        20  \n",
       "weihai,cn                             0  "
      ]
     },
     "execution_count": 94,
     "metadata": {},
     "output_type": "execute_result"
    }
   ],
   "source": [
    "# Define a summary list of metrics I want to pull from the responses list\n",
    "summary = [\"coord.lat\", \"main.temp\", \"main.humidity\", \"wind.speed\", \"clouds.all\"]\n",
    "\n",
    "# Create a Pandas DataFrame with the results\n",
    "data_slice = [response(*summary) for response in responses]\n",
    "data_df = pd.DataFrame(data_slice, index=cities)\n",
    "data_df.columns = ['latitude', 'temperature', 'humidity_percentage', 'wind_speed_mph', 'cloudiness_percentage']\n",
    "data_df"
   ]
  },
  {
   "cell_type": "code",
   "execution_count": 114,
   "metadata": {},
   "outputs": [],
   "source": [
    "# Define function that takes in a column from the df above, a title string, and a y_axis_label string\n",
    "# and makes a scatterplot vs. latitude\n",
    "\n",
    "def scatter(column, title, y_axis_label):\n",
    "    plt.scatter(data_df[column], data_df['temperature'], c='b', marker='o')\n",
    "    plt.title(title, size='xx-large', fontweight='bold', pad=20)\n",
    "    plt.xlabel('Latitude Coordinate', size='large', labelpad=10)\n",
    "    plt.ylabel(y_axis_label, size='large', labelpad=10)\n",
    "    plt.show()"
   ]
  },
  {
   "cell_type": "code",
   "execution_count": 115,
   "metadata": {},
   "outputs": [
    {
     "data": {
      "image/png": "[encoded data removed]",
      "text/plain": [
       "<Figure size 432x288 with 1 Axes>"
      ]
     },
     "metadata": {
      "needs_background": "light"
     },
     "output_type": "display_data"
    }
   ],
   "source": [
    "# Build scatterplot that plots temperature (F) vs. latitude\n",
    "scatter('latitude', 'Temperature vs. Latitude', 'Temperature (Fahrenheight)')"
   ]
  },
  {
   "cell_type": "code",
   "execution_count": 117,
   "metadata": {},
   "outputs": [
    {
     "data": {
      "image/png": "[encoded data removed]",
      "text/plain": [
       "<Figure size 432x288 with 1 Axes>"
      ]
     },
     "metadata": {
      "needs_background": "light"
     },
     "output_type": "display_data"
    }
   ],
   "source": [
    "# Build scatterplot that plots humidity vs. latitude\n",
    "scatter('latitude', 'Humidity vs. Latitude', 'Humidity (%)')"
   ]
  },
  {
   "cell_type": "code",
   "execution_count": 118,
   "metadata": {},
   "outputs": [
    {
     "data": {
      "image/png": "[encoded data removed]",
      "text/plain": [
       "<Figure size 432x288 with 1 Axes>"
      ]
     },
     "metadata": {
      "needs_background": "light"
     },
     "output_type": "display_data"
    }
   ],
   "source": [
    "# Build scatterplot that plots cloudiness vs. latitude\n",
    "scatter('cloudiness_percentage', 'Cloudiness vs. Latitude', 'Cloudiness (%)')"
   ]
  },
  {
   "cell_type": "code",
   "execution_count": 119,
   "metadata": {},
   "outputs": [
    {
     "data": {
      "image/png": "[encoded data removed]",
      "text/plain": [
       "<Figure size 432x288 with 1 Axes>"
      ]
     },
     "metadata": {
      "needs_background": "light"
     },
     "output_type": "display_data"
    }
   ],
   "source": [
    "# Build scatterplot that plots cloudiness vs. latitude\n",
    "scatter('wind_speed_mph', 'Wind Speed vs. Latitude', 'Wind Speed (mph)')"
   ]
  },
  {
   "cell_type": "code",
   "execution_count": null,
   "metadata": {},
   "outputs": [],
   "source": []
  }
 ],
 "metadata": {
  "kernelspec": {
   "display_name": "Python [conda env:PythonData] *",
   "language": "python",
   "name": "conda-env-PythonData-py"
  },
  "language_info": {
   "codemirror_mode": {
    "name": "ipython",
    "version": 3
   },
   "file_extension": ".py",
   "mimetype": "text/x-python",
   "name": "python",
   "nbconvert_exporter": "python",
   "pygments_lexer": "ipython3",
   "version": "3.7.3"
  }
 },
 "nbformat": 4,
 "nbformat_minor": 2
}
