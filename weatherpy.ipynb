{
 "cells": [
  {
   "cell_type": "markdown",
   "metadata": {},
   "source": [
    "# Analysis\n",
    " - The temperature scatterplot shows highest temperatures to be just north of the equator on 7/1/19. This makes sense since it is the beginning of summer in the northern hemisphere.\n",
    " - City cloudiness looks to have no correlation with latitude. Also, the cloudiness measure doesn't appear to be as well distributed as others. There are bands at a couple different cloudiness values, like 0, 20, 80, 100. Perhaps there is another measure that correlates with cloudiness. More investigation would be needed.\n",
    " - Most humidity measurements are over 60%, no matter what latitude. Conversely, a majority of wind speed measurements are in the "
   ]
  },
  {
   "cell_type": "markdown",
   "metadata": {},
   "source": [
    "## Setup"
   ]
  },
  {
   "cell_type": "markdown",
   "metadata": {},
   "source": [
    "#### Import dependencies"
   ]
  },
  {
   "cell_type": "code",
   "execution_count": 2,
   "metadata": {},
   "outputs": [],
   "source": [
    "import pandas as pd\n",
    "from citipy import citipy\n",
    "import matplotlib.pyplot as plt\n",
    "from config import api_key\n",
    "import requests\n",
    "import openweathermapy as owm\n",
    "import random\n",
    "import urllib\n",
    "import csv"
   ]
  },
  {
   "cell_type": "markdown",
   "metadata": {},
   "source": [
    "#### Set base url and temperature units"
   ]
  },
  {
   "cell_type": "code",
   "execution_count": 3,
   "metadata": {},
   "outputs": [],
   "source": [
    "url = \"http://api.openweathermap.org/data/2.5/weather?\"\n",
    "settings = {\"units\": \"imperial\", \"appid\": api_key}"
   ]
  },
  {
   "cell_type": "markdown",
   "metadata": {},
   "source": [
    "## Random location function\n",
    "\n",
    "- Step A: Use random functionality to get a list of randomly chosen coordinates\n",
    "- Step B: Use CITIPY functionality to get a list of corresponding nearest locations\n",
    "- Step C: Perform check that the list of locations is unique. If not, repeat steps A and B."
   ]
  },
  {
   "cell_type": "code",
   "execution_count": 4,
   "metadata": {},
   "outputs": [],
   "source": [
    "def list_of_locations(num):\n",
    "    \n",
    "    coordinates = []\n",
    "    locations = []\n",
    "        \n",
    "    # Populate list of coordinates by generating 'num' random coordinate pairs,\n",
    "    # each up to 3 decimal places\n",
    "    for i in range(num):\n",
    "        lat = round(random.uniform(-90,90), 3) # latitude values\n",
    "        lon = round(random.uniform(-180,180), 3) # longitude values\n",
    "        coordinates.append((lat, lon)) \n",
    "    \n",
    "    # Populate lists of locations denoted by cities and corresponding country codes\n",
    "    # which are nearest to the randomly chosen coordinates found above\n",
    "    for coordinate_pair in coordinates:\n",
    "        (lat, lon) = coordinate_pair\n",
    "        city = citipy.nearest_city(lat, lon)\n",
    "        locations.append(city.city_name + \",\" + city.country_code)\n",
    "    \n",
    "    # Remove any duplicates from the list.\n",
    "    unique_locations = []\n",
    "    \n",
    "    for x in locations: \n",
    "        if x not in unique_locations: \n",
    "            unique_locations.append(x)\n",
    "        locations = unique_locations\n",
    "        \n",
    "    return locations"
   ]
  },
  {
   "cell_type": "markdown",
   "metadata": {},
   "source": [
    "## Store JSON responses from API"
   ]
  },
  {
   "cell_type": "code",
   "execution_count": 6,
   "metadata": {},
   "outputs": [],
   "source": [
    "# Set the variable for number of locations. Note that filtering in list_of_locations function\n",
    "# ends up approximately divides this value by 3.\n",
    "num_locations = 1600\n",
    "\n",
    "# Define list to store JSON responses from API calls based on locations (i.e., city and country code names)\n",
    "responses = []\n",
    "\n",
    "# Run the function to populate the locations\n",
    "locations = list_of_locations(num_locations)"
   ]
  },
  {
   "cell_type": "code",
   "execution_count": null,
   "metadata": {},
   "outputs": [],
   "source": [
    "# Take lists of locations and ping API with them. Store JSON in a new list called responses.\n",
    "for location in locations:\n",
    "    try:\n",
    "        response = owm.get_current(location, **settings)\n",
    "        responses.append(response)\n",
    "        city_name = response.get('name')\n",
    "        city_number = response.get('id')\n",
    "        #print(f\"The city of {city_name} has the city number of {city_number}.\")\n",
    "    except urllib.error.HTTPError as error: \n",
    "        pass"
   ]
  },
  {
   "cell_type": "markdown",
   "metadata": {},
   "source": [
    "## Build the CSV"
   ]
  },
  {
   "cell_type": "code",
   "execution_count": null,
   "metadata": {},
   "outputs": [],
   "source": [
    "with open('./Resources/reponses.csv', 'w', newline='') as csv_file:\n",
    "    csvwriter = csv.writer(csv_file, delimiter=',')\n",
    "    csvwriter.writerow(['coord_lat', 'coord_lon', 'weather_id', 'weather_main', 'weather_description', 'weather_icon', 'base', 'main_temp', 'main_pressure', 'main_humidity', 'main_temp_min', 'main_temp_max', 'visibility', 'wind_speed', 'wind_deg', 'clouds_all', 'dt', 'sys_type', 'sys_id', 'sys_message', 'sys_country', 'sys_sunrise', 'sys_sunset', 'timezone', 'id', 'name', 'cod'])\n",
    "    \n",
    "    for response in responses:\n",
    "        coord_lat = response['coord'].get('lat')\n",
    "        coord_lon = response['coord'].get('lon')\n",
    "       \n",
    "        weather_id = response['weather'][0].get('id')\n",
    "        weather_main = response['weather'][0].get('main')\n",
    "        weather_description = response['weather'][0].get('description')\n",
    "        weather_icon = response['weather'][0].get('icon')\n",
    "        \n",
    "        base = response.get('base')\n",
    "        \n",
    "        main_temp = response['main'].get('temp')\n",
    "        main_pressure = response['main'].get('pressure')\n",
    "        main_humidity = response['main'].get('humidity')\n",
    "        main_temp_min = response['main'].get('temp_min')\n",
    "        main_temp_max = response['main'].get('temp_max')\n",
    "        \n",
    "        visibility = response.get('visibility')\n",
    "        \n",
    "        wind_speed = response['wind'].get('speed')\n",
    "        wind_deg = response['wind'].get('deg')\n",
    "        \n",
    "        clouds_all = response['clouds'].get('all')\n",
    "        dt = response.get('dt')\n",
    "        \n",
    "        sys_type = response['sys'].get('type')\n",
    "        sys_id = response['sys'].get('id')\n",
    "        sys_message = response['sys'].get('message')\n",
    "        sys_country = response['sys'].get('country')\n",
    "        sys_sunrise = response['sys'].get('sunrise')\n",
    "        sys_sunset = response['sys'].get('sunset')\n",
    "        \n",
    "        timezone = response.get('timezone')\n",
    "        __id__ = response.get('id')\n",
    "        name = response.get('name')\n",
    "        cod = response.get('cod')\n",
    "        csvwriter.writerow([coord_lat, coord_lon, weather_id, weather_main, weather_description, weather_icon, base, main_temp, main_pressure, main_humidity, main_temp_min, main_temp_max, visibility, wind_speed, wind_deg, clouds_all, dt, sys_type, sys_id, sys_message, sys_country, sys_sunrise, sys_sunset, timezone, __id__, name, cod])"
   ]
  },
  {
   "cell_type": "markdown",
   "metadata": {},
   "source": [
    "## Build the dataframe"
   ]
  },
  {
   "cell_type": "code",
   "execution_count": null,
   "metadata": {},
   "outputs": [],
   "source": [
    "# Define a summary list of metrics I want to pull from the responses list\n",
    "summary = ['name', 'coord.lat', 'main.temp', 'main.humidity', 'wind.speed', 'clouds.all']\n",
    "\n",
    "# Create a Pandas DataFrame with the results, indexed by city name since this data will not be called by scatterplots\n",
    "data_slice = [response(*summary) for response in responses]\n",
    "data_df = pd.DataFrame(data_slice)\n",
    "data_df.columns = ['city_name', 'latitude', 'temperature', 'humidity_percentage', 'wind_speed_mph', 'cloudiness_percentage']\n",
    "data_df = data_df.set_index('city_name')\n",
    "data_df = data_df[data_df['humidity_percentage'] <= 100] # Include this line because a couple humidity measurements were wacky (close to 300%)\n",
    "data_df.head()"
   ]
  },
  {
   "cell_type": "markdown",
   "metadata": {},
   "source": [
    "## Build scatterplots"
   ]
  },
  {
   "cell_type": "code",
   "execution_count": null,
   "metadata": {},
   "outputs": [],
   "source": [
    "#### Define scatterplot f"
   ]
  },
  {
   "cell_type": "code",
   "execution_count": null,
   "metadata": {},
   "outputs": [],
   "source": [
    "def scatter(column, title, y_axis_label, file_name):\n",
    "    plt.scatter(data_df['latitude'], data_df[column], c='b', marker='o', zorder=1)\n",
    "    plt.title(title, size='xx-large', fontweight='bold', pad=20)\n",
    "    plt.xlabel('Latitude Coordinate', size='large', labelpad=10)\n",
    "    plt.ylabel(y_axis_label, size='large', labelpad=10)\n",
    "    plt.savefig(file_name)\n",
    "    plt.show()"
   ]
  },
  {
   "cell_type": "code",
   "execution_count": null,
   "metadata": {},
   "outputs": [],
   "source": [
    "# Build scatterplot that plots temperature (F) vs. latitude\n",
    "scatter('temperature', 'City Temperature vs. Latitude (7/1/19)', 'Temperature (Fahrenheight)', './Graphs/temperature_vs_latitude')"
   ]
  },
  {
   "cell_type": "code",
   "execution_count": null,
   "metadata": {},
   "outputs": [],
   "source": [
    "# Build scatterplot that plots humidity vs. latitude\n",
    "scatter('humidity_percentage', 'City Humidity vs. Latitude (7/1/19)', 'Humidity (%)', './Graphs/humidity_vs_latitude')"
   ]
  },
  {
   "cell_type": "code",
   "execution_count": null,
   "metadata": {},
   "outputs": [],
   "source": [
    "# Build scatterplot that plots cloudiness vs. latitude\n",
    "scatter('cloudiness_percentage', 'City Cloudiness vs. Latitude (7/1/19)', 'Cloudiness (%)', './Graphs/cloudiness_vs_latitude')"
   ]
  },
  {
   "cell_type": "code",
   "execution_count": null,
   "metadata": {},
   "outputs": [],
   "source": [
    "# Build scatterplot that plots cloudiness vs. latitude\n",
    "scatter('wind_speed_mph', 'City Wind Speed vs. Latitude (7/1/19)', 'Wind Speed (mph)', './Graphs/windspeed_vs_latitude')"
   ]
  },
  {
   "cell_type": "code",
   "execution_count": null,
   "metadata": {},
   "outputs": [],
   "source": []
  }
 ],
 "metadata": {
  "kernelspec": {
   "display_name": "Python 3",
   "language": "python",
   "name": "python3"
  },
  "language_info": {
   "codemirror_mode": {
    "name": "ipython",
    "version": 3
   },
   "file_extension": ".py",
   "mimetype": "text/x-python",
   "name": "python",
   "nbconvert_exporter": "python",
   "pygments_lexer": "ipython3",
   "version": "3.7.3"
  }
 },
 "nbformat": 4,
 "nbformat_minor": 2
}
